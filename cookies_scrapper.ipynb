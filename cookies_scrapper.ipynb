{
  "cells": [
    {
      "cell_type": "code",
      "execution_count": null,
      "id": "88d984d1",
      "metadata": {
        "id": "88d984d1"
      },
      "outputs": [],
      "source": [
        "# --- Run this cell once to install the libraries ---\n",
        "%pip install selenium webdriver-manager pandas -q\n",
        "print(\"✅ Libraries installed successfully!\")"
      ]
    },
    {
      "cell_type": "code",
      "execution_count": null,
      "id": "ac78c855",
      "metadata": {
        "id": "ac78c855"
      },
      "outputs": [],
      "source": [
        "import pandas as pd\n",
        "import time\n",
        "from selenium import webdriver\n",
        "from selenium.webdriver.chrome.service import Service as ChromeService\n",
        "from webdriver_manager.chrome import ChromeDriverManager\n",
        "\n",
        "print(\"✅ Libraries imported successfully!\")"
      ]
    },
    {
      "cell_type": "code",
      "execution_count": null,
      "id": "6aa1c49c",
      "metadata": {
        "id": "6aa1c49c"
      },
      "outputs": [],
      "source": [
        "# --- ⬇️ PASTE THE URL YOU WANT TO SCRAPE HERE ⬇️ ---\n",
        "target_url = 'https://www.google.com'  # Example: 'https://www.example.com'\n",
        "# ----------------------------------------------------\n",
        "\n",
        "# --- Define the name of the output file ---\n",
        "output_csv_file = 'exported_cookies.csv'\n",
        "# ------------------------------------------\n",
        "\n",
        "print(f\"Target URL set to: {target_url}\")\n",
        "print(f\"Output file will be named: {output_csv_file}\")"
      ]
    },
    {
      "cell_type": "code",
      "execution_count": null,
      "id": "85287d62",
      "metadata": {
        "id": "85287d62"
      },
      "outputs": [],
      "source": [
        "# Cell 4 (Updated) - 🚀 Run the Scraper\n",
        "\n",
        "import pandas as pd\n",
        "import time\n",
        "from selenium import webdriver\n",
        "from selenium.webdriver.chrome.service import Service as ChromeService\n",
        "from webdriver_manager.chrome import ChromeDriverManager\n",
        "from selenium.webdriver.common.by import By\n",
        "\n",
        "# --- Install a specific version of Chrome and ChromeDriver ---\n",
        "# This can help resolve compatibility issues\n",
        "!apt-get update\n",
        "!apt install chromium-browser chromium-chromedriver\n",
        "# -----------------------------------------------------------\n",
        "\n",
        "\n",
        "# --- New: Configure Chrome Options to be more permissive ---\n",
        "chrome_options = webdriver.ChromeOptions()\n",
        "# This preference attempts to disable the browser's built-in cookie blocking\n",
        "prefs = {\"profile.cookie_controls_mode\": 0}\n",
        "chrome_options.add_experimental_option(\"prefs\", prefs)\n",
        "# To run without a visible browser window, uncomment the next line:\n",
        "chrome_options.add_argument(\"--headless\")\n",
        "chrome_options.add_argument(\"--no-sandbox\")\n",
        "chrome_options.add_argument(\"--disable-dev-shm-usage\")\n",
        "chrome_options.add_argument(\"--disable-gpu\") # Add this line\n",
        "chrome_options.add_argument(\"--no-first-run\") # Add this line\n",
        "chrome_options.add_argument(\"--no-default-browser-check\") # Add this line\n",
        "chrome_options.add_argument(\"--window-size=1280,800\") # Add this line\n",
        "\n",
        "\n",
        "driver = None\n",
        "try:\n",
        "    print(\"🚀 Starting the browser with permissive settings...\")\n",
        "    # Install and use a specific version of Chrome if needed\n",
        "    service = ChromeService(ChromeDriverManager().install())\n",
        "\n",
        "    driver = webdriver.Chrome(\n",
        "        service=service,\n",
        "        options=chrome_options\n",
        "    )\n",
        "\n",
        "    print(f\"Navigating to {target_url}...\")\n",
        "    driver.get(target_url)\n",
        "\n",
        "    print(\"Waiting 7 seconds for page and iframes to load...\")\n",
        "    time.sleep(7)\n",
        "\n",
        "    # 1. Get first-party cookies from the main document\n",
        "    all_cookies = driver.get_cookies()\n",
        "    print(f\"✅ Found {len(all_cookies)} first-party cookies.\")\n",
        "\n",
        "    # 2. --- New: Attempt to find and switch to iFrames ---\n",
        "    print(\"Scanning for iFrames to find third-party cookies...\")\n",
        "    iframes = driver.find_elements(By.TAG_NAME, 'iframe')\n",
        "    print(f\"Found {len(iframes)} iFrames on the page.\")\n",
        "\n",
        "    for frame in iframes:\n",
        "        try:\n",
        "            # Switch context to the iframe\n",
        "            driver.switch_to.frame(frame)\n",
        "            # Get cookies set within the iframe's context\n",
        "            iframe_cookies = driver.get_cookies()\n",
        "            if iframe_cookies:\n",
        "                print(f\"  > Found {len(iframe_cookies)} cookies in an iframe.\")\n",
        "                all_cookies.extend(iframe_cookies)\n",
        "            # IMPORTANT: Switch back to the main page's context\n",
        "            driver.switch_to.default_content()\n",
        "        except Exception as e:\n",
        "            print(f\"  > Could not switch to an iframe or get cookies: {e}\")\n",
        "            driver.switch_to.default_content() # Ensure we switch back even if there's an error\n",
        "\n",
        "    if not all_cookies:\n",
        "        print(\"❌ No cookies were found on this page.\")\n",
        "    else:\n",
        "        # Remove duplicate cookies by converting to a set of tuples and back\n",
        "        unique_cookies_tuples = {tuple(d.items()) for d in all_cookies}\n",
        "        unique_cookies = [dict(t) for t in unique_cookies_tuples]\n",
        "\n",
        "        print(f\"\\n✅ Found a total of {len(unique_cookies)} unique cookies. Preparing to save...\")\n",
        "        df = pd.DataFrame(unique_cookies)\n",
        "\n",
        "        # Convert expiry timestamp to readable date if it exists\n",
        "        if 'expiry' in df.columns:\n",
        "            df['expiry'] = pd.to_datetime(df['expiry'], unit='s', errors='coerce')\n",
        "\n",
        "        df.to_csv(output_csv_file, index=False)\n",
        "        print(f\"\\n🎉 Success! All found cookies saved to '{output_csv_file}'\")\n",
        "\n",
        "finally:\n",
        "    if driver:\n",
        "        print(\"Closing the browser...\")\n",
        "        driver.quit()"
      ]
    },
    {
      "cell_type": "code",
      "execution_count": null,
      "id": "e037dcf8",
      "metadata": {
        "id": "e037dcf8"
      },
      "outputs": [],
      "source": [
        "import os\n",
        "\n",
        "if os.path.exists(output_csv_file):\n",
        "    print(f\"--- Displaying contents of '{output_csv_file}' ---\")\n",
        "    # Read the CSV file back into a DataFrame and display it\n",
        "    saved_df = pd.read_csv(output_csv_file)\n",
        "    display(saved_df.head())\n",
        "else:\n",
        "    print(f\"'{output_csv_file}' not found. Please run the scraper cell first.\")"
      ]
    }
  ],
  "metadata": {
    "kernelspec": {
      "display_name": "Python 3",
      "name": "python3"
    },
    "language_info": {
      "codemirror_mode": {
        "name": "ipython",
        "version": 3
      },
      "file_extension": ".py",
      "mimetype": "text/x-python",
      "name": "python",
      "nbconvert_exporter": "python",
      "pygments_lexer": "ipython3",
      "version": "3.12.7"
    },
    "colab": {
      "provenance": []
    }
  },
  "nbformat": 4,
  "nbformat_minor": 5
}