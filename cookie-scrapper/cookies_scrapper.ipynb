{
 "cells": [
  {
   "cell_type": "code",
   "execution_count": 6,
   "id": "88d984d1",
   "metadata": {},
   "outputs": [
    {
     "name": "stdout",
     "output_type": "stream",
     "text": [
      "Note: you may need to restart the kernel to use updated packages.\n",
      "✅ Libraries installed successfully!\n"
     ]
    }
   ],
   "source": [
    "# --- Run this cell once to install the libraries ---\n",
    "%pip install selenium webdriver-manager pandas -q\n",
    "print(\"✅ Libraries installed successfully!\")"
   ]
  },
  {
   "cell_type": "code",
   "execution_count": 7,
   "id": "ac78c855",
   "metadata": {},
   "outputs": [
    {
     "name": "stdout",
     "output_type": "stream",
     "text": [
      "✅ Libraries imported successfully!\n"
     ]
    }
   ],
   "source": [
    "import pandas as pd\n",
    "import time\n",
    "from selenium import webdriver\n",
    "from selenium.webdriver.chrome.service import Service as ChromeService\n",
    "from webdriver_manager.chrome import ChromeDriverManager\n",
    "\n",
    "print(\"✅ Libraries imported successfully!\")"
   ]
  },
  {
   "cell_type": "code",
   "execution_count": null,
   "id": "6aa1c49c",
   "metadata": {},
   "outputs": [
    {
     "name": "stdout",
     "output_type": "stream",
     "text": [
      "Target URL set to: https://www.dpoconsulting.pt\n",
      "Output file will be named: exported_cookies.csv\n"
     ]
    }
   ],
   "source": [
    "# --- ⬇️ PASTE THE URL YOU WANT TO SCRAPE HERE ⬇️ ---\n",
    "target_url = 'https://www.google.com'  # Example: 'https://www.example.com'\n",
    "# ----------------------------------------------------\n",
    "\n",
    "# --- Define the name of the output file ---\n",
    "output_csv_file = 'exported_cookies.csv'\n",
    "# ------------------------------------------\n",
    "\n",
    "print(f\"Target URL set to: {target_url}\")\n",
    "print(f\"Output file will be named: {output_csv_file}\")"
   ]
  },
  {
   "cell_type": "code",
   "execution_count": 9,
   "id": "85287d62",
   "metadata": {},
   "outputs": [
    {
     "name": "stdout",
     "output_type": "stream",
     "text": [
      "🚀 Starting the browser with permissive settings...\n",
      "Navigating to https://www.dpoconsulting.pt...\n",
      "Waiting 7 seconds for page and iframes to load...\n",
      "✅ Found 9 first-party cookies.\n",
      "Scanning for iFrames to find third-party cookies...\n",
      "Found 0 iFrames on the page.\n",
      "\n",
      "✅ Found a total of 9 unique cookies. Preparing to save...\n",
      "\n",
      "🎉 Success! All found cookies saved to 'exported_cookies.csv'\n",
      "Closing the browser...\n"
     ]
    }
   ],
   "source": [
    "# Cell 4 (Updated) - 🚀 Run the Scraper\n",
    "\n",
    "import pandas as pd\n",
    "import time\n",
    "from selenium import webdriver\n",
    "from selenium.webdriver.chrome.service import Service as ChromeService\n",
    "from webdriver_manager.chrome import ChromeDriverManager\n",
    "from selenium.webdriver.common.by import By\n",
    "\n",
    "# --- New: Configure Chrome Options to be more permissive ---\n",
    "chrome_options = webdriver.ChromeOptions()\n",
    "# This preference attempts to disable the browser's built-in cookie blocking\n",
    "prefs = {\"profile.cookie_controls_mode\": 0}\n",
    "chrome_options.add_experimental_option(\"prefs\", prefs)\n",
    "# To run without a visible browser window, uncomment the next line:\n",
    "# chrome_options.add_argument(\"--headless\")\n",
    "\n",
    "driver = None\n",
    "try:\n",
    "    print(\"🚀 Starting the browser with permissive settings...\")\n",
    "    driver = webdriver.Chrome(\n",
    "        service=ChromeService(ChromeDriverManager().install()),\n",
    "        options=chrome_options\n",
    "    )\n",
    "\n",
    "    print(f\"Navigating to {target_url}...\")\n",
    "    driver.get(target_url)\n",
    "\n",
    "    print(\"Waiting 7 seconds for page and iframes to load...\")\n",
    "    time.sleep(7)\n",
    "\n",
    "    # 1. Get first-party cookies from the main document\n",
    "    all_cookies = driver.get_cookies()\n",
    "    print(f\"✅ Found {len(all_cookies)} first-party cookies.\")\n",
    "\n",
    "    # 2. --- New: Attempt to find and switch to iFrames ---\n",
    "    print(\"Scanning for iFrames to find third-party cookies...\")\n",
    "    iframes = driver.find_elements(By.TAG_NAME, 'iframe')\n",
    "    print(f\"Found {len(iframes)} iFrames on the page.\")\n",
    "\n",
    "    for frame in iframes:\n",
    "        try:\n",
    "            # Switch context to the iframe\n",
    "            driver.switch_to.frame(frame)\n",
    "            # Get cookies set within the iframe's context\n",
    "            iframe_cookies = driver.get_cookies()\n",
    "            if iframe_cookies:\n",
    "                print(f\"  > Found {len(iframe_cookies)} cookies in an iframe.\")\n",
    "                all_cookies.extend(iframe_cookies)\n",
    "            # IMPORTANT: Switch back to the main page's context\n",
    "            driver.switch_to.default_content()\n",
    "        except Exception as e:\n",
    "            print(f\"  > Could not switch to an iframe or get cookies: {e}\")\n",
    "            driver.switch_to.default_content() # Ensure we switch back even if there's an error\n",
    "\n",
    "    if not all_cookies:\n",
    "        print(\"❌ No cookies were found on this page.\")\n",
    "    else:\n",
    "        # Remove duplicate cookies by converting to a set of tuples and back\n",
    "        unique_cookies_tuples = {tuple(d.items()) for d in all_cookies}\n",
    "        unique_cookies = [dict(t) for t in unique_cookies_tuples]\n",
    "        \n",
    "        print(f\"\\n✅ Found a total of {len(unique_cookies)} unique cookies. Preparing to save...\")\n",
    "        df = pd.DataFrame(unique_cookies)\n",
    "\n",
    "        # Convert expiry timestamp to readable date if it exists\n",
    "        if 'expiry' in df.columns:\n",
    "            df['expiry'] = pd.to_datetime(df['expiry'], unit='s', errors='coerce')\n",
    "\n",
    "        df.to_csv(output_csv_file, index=False)\n",
    "        print(f\"\\n🎉 Success! All found cookies saved to '{output_csv_file}'\")\n",
    "\n",
    "finally:\n",
    "    if driver:\n",
    "        print(\"Closing the browser...\")\n",
    "        driver.quit()"
   ]
  },
  {
   "cell_type": "code",
   "execution_count": 10,
   "id": "e037dcf8",
   "metadata": {},
   "outputs": [
    {
     "name": "stdout",
     "output_type": "stream",
     "text": [
      "--- Displaying contents of 'exported_cookies.csv' ---\n"
     ]
    },
    {
     "data": {
      "text/html": [
       "<div>\n",
       "<style scoped>\n",
       "    .dataframe tbody tr th:only-of-type {\n",
       "        vertical-align: middle;\n",
       "    }\n",
       "\n",
       "    .dataframe tbody tr th {\n",
       "        vertical-align: top;\n",
       "    }\n",
       "\n",
       "    .dataframe thead th {\n",
       "        text-align: right;\n",
       "    }\n",
       "</style>\n",
       "<table border=\"1\" class=\"dataframe\">\n",
       "  <thead>\n",
       "    <tr style=\"text-align: right;\">\n",
       "      <th></th>\n",
       "      <th>domain</th>\n",
       "      <th>expiry</th>\n",
       "      <th>httpOnly</th>\n",
       "      <th>name</th>\n",
       "      <th>path</th>\n",
       "      <th>sameSite</th>\n",
       "      <th>secure</th>\n",
       "      <th>value</th>\n",
       "    </tr>\n",
       "  </thead>\n",
       "  <tbody>\n",
       "    <tr>\n",
       "      <th>0</th>\n",
       "      <td>www.dpoconsulting.pt</td>\n",
       "      <td>2026-09-30 21:11:28</td>\n",
       "      <td>False</td>\n",
       "      <td>fa-consent-analytics_storage</td>\n",
       "      <td>/</td>\n",
       "      <td>Lax</td>\n",
       "      <td>False</td>\n",
       "      <td>false</td>\n",
       "    </tr>\n",
       "    <tr>\n",
       "      <th>1</th>\n",
       "      <td>www.dpoconsulting.pt</td>\n",
       "      <td>2026-09-30 21:11:28</td>\n",
       "      <td>False</td>\n",
       "      <td>fa-consent-functionality_storage</td>\n",
       "      <td>/</td>\n",
       "      <td>Lax</td>\n",
       "      <td>False</td>\n",
       "      <td>false</td>\n",
       "    </tr>\n",
       "    <tr>\n",
       "      <th>2</th>\n",
       "      <td>.dpoconsulting.pt</td>\n",
       "      <td>2026-09-30 21:11:23</td>\n",
       "      <td>False</td>\n",
       "      <td>_ga_JT6E7HGH11</td>\n",
       "      <td>/</td>\n",
       "      <td>Lax</td>\n",
       "      <td>False</td>\n",
       "      <td>GS2.1.s1756242683$o1$g0$t1756242683$j60$l0$h0</td>\n",
       "    </tr>\n",
       "    <tr>\n",
       "      <th>3</th>\n",
       "      <td>.dpoconsulting.pt</td>\n",
       "      <td>2026-09-30 21:11:23</td>\n",
       "      <td>False</td>\n",
       "      <td>_ga</td>\n",
       "      <td>/</td>\n",
       "      <td>Lax</td>\n",
       "      <td>False</td>\n",
       "      <td>GA1.1.1463137559.1756242684</td>\n",
       "    </tr>\n",
       "    <tr>\n",
       "      <th>4</th>\n",
       "      <td>www.dpoconsulting.pt</td>\n",
       "      <td>2026-09-30 21:11:28</td>\n",
       "      <td>False</td>\n",
       "      <td>fa-consent-personalization_storage</td>\n",
       "      <td>/</td>\n",
       "      <td>Lax</td>\n",
       "      <td>False</td>\n",
       "      <td>false</td>\n",
       "    </tr>\n",
       "  </tbody>\n",
       "</table>\n",
       "</div>"
      ],
      "text/plain": [
       "                 domain               expiry  httpOnly  \\\n",
       "0  www.dpoconsulting.pt  2026-09-30 21:11:28     False   \n",
       "1  www.dpoconsulting.pt  2026-09-30 21:11:28     False   \n",
       "2     .dpoconsulting.pt  2026-09-30 21:11:23     False   \n",
       "3     .dpoconsulting.pt  2026-09-30 21:11:23     False   \n",
       "4  www.dpoconsulting.pt  2026-09-30 21:11:28     False   \n",
       "\n",
       "                                 name path sameSite  secure  \\\n",
       "0        fa-consent-analytics_storage    /      Lax   False   \n",
       "1    fa-consent-functionality_storage    /      Lax   False   \n",
       "2                      _ga_JT6E7HGH11    /      Lax   False   \n",
       "3                                 _ga    /      Lax   False   \n",
       "4  fa-consent-personalization_storage    /      Lax   False   \n",
       "\n",
       "                                           value  \n",
       "0                                          false  \n",
       "1                                          false  \n",
       "2  GS2.1.s1756242683$o1$g0$t1756242683$j60$l0$h0  \n",
       "3                    GA1.1.1463137559.1756242684  \n",
       "4                                          false  "
      ]
     },
     "metadata": {},
     "output_type": "display_data"
    }
   ],
   "source": [
    "import os\n",
    "\n",
    "if os.path.exists(output_csv_file):\n",
    "    print(f\"--- Displaying contents of '{output_csv_file}' ---\")\n",
    "    # Read the CSV file back into a DataFrame and display it\n",
    "    saved_df = pd.read_csv(output_csv_file)\n",
    "    display(saved_df.head())\n",
    "else:\n",
    "    print(f\"'{output_csv_file}' not found. Please run the scraper cell first.\")"
   ]
  }
 ],
 "metadata": {
  "kernelspec": {
   "display_name": "base",
   "language": "python",
   "name": "python3"
  },
  "language_info": {
   "codemirror_mode": {
    "name": "ipython",
    "version": 3
   },
   "file_extension": ".py",
   "mimetype": "text/x-python",
   "name": "python",
   "nbconvert_exporter": "python",
   "pygments_lexer": "ipython3",
   "version": "3.12.7"
  }
 },
 "nbformat": 4,
 "nbformat_minor": 5
}
